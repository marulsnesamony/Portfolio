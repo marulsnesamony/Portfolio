{
  "metadata": {
    "language_info": {
      "codemirror_mode": {
        "name": "python",
        "version": 3
      },
      "file_extension": ".py",
      "mimetype": "text/x-python",
      "name": "python",
      "nbconvert_exporter": "python",
      "pygments_lexer": "ipython3",
      "version": "3.8"
    },
    "kernelspec": {
      "name": "python",
      "display_name": "Python (Pyodide)",
      "language": "python"
    }
  },
  "nbformat_minor": 4,
  "nbformat": 4,
  "cells": [
    {
      "cell_type": "markdown",
      "source": "##### Processing and Cleaning the Data used in \n#### [Ease of Travel with your Passport (Tableau Viz)](https://public.tableau.com/app/profile/marul.s.nesamony/viz/Passport_Ranks_16914649641120/WherecanyourPassporttakeyouwithoutaVisa) \n\n1. Passport index of Countries and the country details from https://www.henleyglobal.com/passport-index/compare are stored in individual htm files in local and is looped to get the details for each country, which is then stored in cntry_df dataframe\n2. Two reference files \"Continents.csv\" and \"Country_Codes.htm\" have the continents and country 3 digit abbreviations. The contents of these 2 reference files are stored in cntry_cd_df and continent_df dataframe\n3. The continent details of the country and each of its corresponding visa-free country is added to the dataframe\n4. The final dataframe contents are saved to a csv file to be consumed by the Tableau viz\n",
      "metadata": {}
    },
    {
      "cell_type": "code",
      "source": "from bs4 import BeautifulSoup #for parsing HTML page\n#import lxml\nimport csv #for writing into CSV file\nimport os\nimport pandas as pd\nimport numpy as np\n#import urllib.request\n#import piplite\n#await piplite.install(['requests']) -- HTTPS not supported in JupyterLite using requests\n#import requests\n\n#print(os.getcwd()) #check to see what the current working directory is\nos.chdir(\"/drive/notebooks/Training\") #set the working directory\n\ncntry_lst = []\ncntry_code = [] \n\ni = 0\n\nfor files in os.listdir(\"/drive/notebooks/Training/Countries/\"):\n    #print(files)\n    i +=1\n\n    if files.endswith(\".htm\"): #and files not in [\"County_Codes.htm\"]:\n        #print(files)\n        with open(\"Countries/\"+files) as country:\n            soup = BeautifulSoup(country, \"html.parser\")\n\n            #    soup\n            if files not in [\"Country_Codes.htm\"]:\n                t_rows = soup.find_all(\"div\", class_=\"col-passport-info col-md-3\")\n                #t_rows = soup.find_all(\"body\")\n                for t_row in t_rows:\n                    cntry_name = t_row.find(\"h3\", class_=\"mb15\").text    \n                    cntry_rank = t_row.find_all(\"h3\", class_=\"mb5\")[0].text[:-2]\n                    cntry_allowed = t_row.find_all(\"h3\", class_=\"mb5\")[1].text\n                    flg_url = t_row.find(\"img\").get(\"src\")\n                    #print(flg_url)\n                    flg_name = flg_url[-6:]\n                    flg_url = \"https://raw.githubusercontent.com/marulsnesamony/CountryFlags/main/\"+ flg_name\n                    country_abbr = flg_name[:2].upper()\n                    #print(cntry_name, country_abbr)\n                    \n                    visa_cntrys = t_row.find_all(\"div\", class_=\"country-container\")\n                    #print(cntry_name, cntry_rank, cntry_allowed)\n                    \n                    for visa_cntry in visa_cntrys:\n                        if len(visa_cntry) < 3: \n                            visa_free = 'N'\n                        else: \n                            visa_free = 'Y'\n                        visa_flg_url = visa_cntry.find(\"img\").get(\"src\")\n                        visa_country_cd = visa_flg_url[-6:][:2].upper()\n                        visa_cntry_nm = visa_cntry.find(\"p\").text.rstrip(\"*\").strip()\n                        visa_cntry_len = len(visa_cntry)\n                        \n                        #print(visa_cntry_nm, visa_cntry_len, visa_country_cd)\n                        # Append all the values to a List as Tuples - each append is a tuple\n                        cntry_lst.append((cntry_name, flg_url, flg_name, country_abbr, cntry_rank, cntry_allowed, visa_cntry_nm, visa_country_cd, visa_free))\n                    cntry_lst.append((cntry_name, flg_url, flg_name, country_abbr, cntry_rank, cntry_allowed, cntry_name, country_abbr, 'O'))\n            else:\n                t_rows = soup.find_all(\"tr\")\n                # column headers to be written to the csv file\n                col_names = ['CountryName', 'Country_2_Digit_Abbr', 'Country_3_Digit_Abbr', 'Country_Code']\n\n                # Create the CSV file to which the contents need to be written to\n                # If the file exists, this will overwrite its contents else it will create the file \n                csv_file = open('/drive/notebooks/Training/Country_Codes.csv', 'w')\n                csv_writer = csv.writer(csv_file)\n                csv_writer.writerow(col_names)\n                \n                xtra_cntry = 0\n                \n                for t_row in t_rows:\n\n                    if len(t_row) < 10:    #leave out table rows that do not have Country info\n                        continue\n                    # this will return everything within the text part of the 'td' tag\n                    \n                    row_len = len(t_row)\n                    country_name = t_row.find_all(\"td\")[1].text.strip()  \n                    country_abbr_2 = t_row.find_all(\"td\")[2].text.strip()\n                    country_abbr_3 = t_row.find_all(\"td\")[3].text.strip()\n                    country_code = t_row.find_all(\"td\")[4].text.strip()\n                    if 'Kosova' in country_name:\n                        xtra_cntry = 1\n                    #print(country_name, row_len, country_abbr_2, country_abbr_3, country_code)\n                    csv_writer.writerow([country_name, country_abbr_2, country_abbr_3, country_code])\n                    cntry_code.append((country_name, country_abbr_2, country_abbr_3, country_code))\n                else:\n                    if xtra_cntry == 0:\n                        country_name = 'Kosova'  \n                        country_abbr_2 = 'XK'\n                        country_abbr_3 = 'XXK'\n                        country_code = 383\n                        csv_writer.writerow([country_name, country_abbr_2, country_abbr_3, country_code])\n                        cntry_code.append((country_name, country_abbr_2, country_abbr_3, country_code))                       \n                    csv_file.close()\n\n    \n    elif files in (\"Continents.csv\"):\n        #print(files)\n        continent_df = pd.read_csv(\"Countries/\"+files)\n        continent_df[\"Code\"] = np.where(continent_df[\"Entity\"] == \"Kosovo\", \"XXK\", continent_df[\"Code\"])\n        \ncntry_df = pd.DataFrame(cntry_lst, columns=('Country', 'Flag_URL', 'Flag_file', 'Country_Abbr', 'Country_Rank', 'Number_VisaFree', 'VisaFreeCountry', 'VisaFreeCntryCD', 'Visa_Free'))\n#print(cntry_df)\n\ncntry_cd_df = pd.DataFrame(cntry_code, columns=('CountryName', 'Country_2_Digit_Abbr', 'Country_3_Digit_Abbr', 'Country_Code'))\n#print(cntry_cd_df)\n\ncountries = pd.merge(cntry_df, cntry_cd_df, left_on = 'Country_Abbr', right_on = 'Country_2_Digit_Abbr', how = 'left').drop(columns=['CountryName'])\n#print(countries.describe())\n\ncountry_cont_temp = pd.merge(countries, continent_df, left_on = 'Country_3_Digit_Abbr', right_on = 'Code', how = 'left').drop(columns=['Country_2_Digit_Abbr', 'Year'])\n\n#Similar to listagg in Oracle\n#visa_list = country_cont_temp.query('Visa_Free == \"Y\"').groupby(['Country_Abbr'])['VisaFreeCntryCD'].apply(','.join).reset_index()\nvisa_list = country_cont_temp.query('Visa_Free == \"Y\"').groupby(['Country_Abbr']).agg(Visa_Free_List = ('VisaFreeCntryCD', list), VisaFree_Number = ('VisaFreeCntryCD', 'count')).reset_index()\nvisa_list['Cntry_Rank'] = visa_list['VisaFree_Number'].rank(method='dense', ascending=False)\nvisa_list['Spiral_Rank'] = visa_list['VisaFree_Number'].rank(method='first', ascending=False)\n\n#travel_from = country_cont.loc[country_cont[\"Visa_Free\"] == \"Y\", [\"Country_Abbr\", \"VisaFreeCntryCD\"]].groupby(['VisaFreeCntryCD'])['Country_Abbr'].apply(','.join).reset_index()\n\ncountry_cont_temp = pd.merge(country_cont_temp, visa_list, left_on = 'Country_Abbr', right_on = 'Country_Abbr', how = 'left').drop(columns=['Visa_Free_List'])\n#country_cont.rename(columns={\"VisaFreeCntryCD_x\": \"VisaFreeCntryCD\", \"VisaFreeCntryCD_y\": \"Visa_Free_List\"}, inplace = True)\n\ncountry_cont = pd.merge(country_cont_temp, visa_list, left_on = 'VisaFreeCntryCD', right_on = 'Country_Abbr', how = 'left', suffixes=('', '_y')).drop(columns=['Country_Abbr_y', 'VisaFree_Number_y', 'Cntry_Rank_y', 'Spiral_Rank_y'])\ncountry_cont.rename(columns={\"Visa_Free_List\": \"VisaFree_Travel_VF_List\"}, inplace = True)\n#country_cont.drop(columns=['Country_Abbr_y', 'VisaFree_Number_y', 'Cntry_Rank_y', 'Spiral_Rank_y'], inplace = True)\n\ncountry_cont['VisaFree_To_Cntry'] = np.where(country_cont.apply(lambda x: str(x.Country_Abbr) in str(x.VisaFree_Travel_VF_List), axis=1) == True, 'Y', 'N')\ncountry_cont.drop(columns=['VisaFree_Travel_VF_List'], inplace = True)\n\ncountry_cont_temp_2 = pd.merge(country_cont, cntry_cd_df, left_on = 'VisaFreeCntryCD', right_on = 'Country_2_Digit_Abbr', how = 'left', suffixes=('', '_y'))#.drop(columns=['Country_2_Digit_Abbr_y', 'Country_Code_y'])\n#country_cont_temp_2.rename(columns={\"CountryName\": \"VisaFree_Country\", \"Country_3_Digit_Abbr_y\": \"VisaFree_3_Digit_CD\"}, inplace = True)\n\ncountry_cont = pd.merge(country_cont_temp_2, continent_df, left_on = 'Country_3_Digit_Abbr_y', right_on = 'Code', how = 'left', suffixes=('', '_z')).drop(columns=['Country_2_Digit_Abbr', 'Year'])\ncountry_cont.drop(columns=['Country_Code_y', 'CountryName', 'Code_z', 'Entity_z', 'Code', 'Entity'], inplace = True)\ncountry_cont.rename(columns={\"Country_3_Digit_Abbr_y\": \"VisaFree_3_Digit_CD\", \"Continent_z\": \"VisaFree_Continent\"}, inplace = True)\n                           \nos.chdir(\"/drive/notebooks/Training\")\nif(os.path.exists(\"/drive/notebooks/Training/Compare_Passport.csv\") and os.path.isfile(\"/drive/notebooks/Training/Compare_Passport.csv\")):\n  os.remove(\"/drive/notebooks/Training/Compare_Passport.csv\")\ncountry_cont.to_csv(\"Compare_Passport.csv\", mode='w', index=False)\n",
      "metadata": {
        "trusted": true
      },
      "execution_count": null,
      "outputs": []
    },
    {
      "cell_type": "markdown",
      "source": "##### **Code snippets for data validation**",
      "metadata": {}
    },
    {
      "cell_type": "code",
      "source": "#find distinct countries for which there is no matching record in the second dataframe\n#print(countries.query('Country_Abbr != Country_2_Digit_Abbr').Country.unique())\n#print(countries.query('Country_Abbr == \"IN\"'))\nprint(country_cont.query('VisaFree_Travel_VF == False'))",
      "metadata": {
        "trusted": true
      },
      "execution_count": null,
      "outputs": []
    },
    {
      "cell_type": "code",
      "source": "# find the list element that satisfies the criteria. This is a List Comprehension. \n# If the search criteria is a substring of the element in the list, it will show up as no match\nprint([i for i in cntry_code if 'Brunei' in i])\n\n# find the dataframe record that satisfies the sub-string match criteria\nprint(cntry_cd_df.query('CountryName.str.contains(\"Brunei\")'))\n#print(help(cntry_code))",
      "metadata": {
        "trusted": true
      },
      "execution_count": null,
      "outputs": []
    },
    {
      "cell_type": "code",
      "source": "# Describe the dataframe. # of records, Unique values of each column, freq = number of times the top value occurs in the column\n#print(countries.describe())\n#print(continent_df.head())\n#print(cntry_cd_df.head())\n#print(country_cont_temp_2.head(10))\nprint(country_cont.tail())\n#print(visa_list.head())\n#print(country_cont.describe(include='all'))\n#print(visa_list.describe(include='all'))\n#print(visa_list.query('Country_Abbr == \"AF\"'))\n#print(visa_list['Number_VisaFree'].isnull())",
      "metadata": {
        "trusted": true
      },
      "execution_count": null,
      "outputs": []
    },
    {
      "cell_type": "code",
      "source": "# Describe the dataframe when dataframe columns are mixed type. # of records, Unique values of each column, freq = number of times the top value occurs in the column\n#print(country_cont.describe(include='all'))\n#print(country_cont.query('Visa_Free == \"Y\"').groupby(['Country_Abbr'])['VisaFreeCntryCD'].apply(','.join))\nprint(country_cont.query('Visa_Free == \"Y\" and VisaFreeCntryCD == \"MY\"').Country_Abbr.unique())\nprint(country_cont.query('Visa_Free == \"Y\" and Country_Abbr == \"MY\"').VisaFreeCntryCD.unique())",
      "metadata": {
        "trusted": true
      },
      "execution_count": null,
      "outputs": []
    },
    {
      "cell_type": "code",
      "source": "# Unique values of the CountryName column\n#print(cntry_cd_df.CountryName.unique())\n#print(np.where(country_cont['VisaFree_Travel_VF_List'].str.contains(str(country_cont['Country_Abbr'])), 'Y', 'N'))\n\nprint(np.where(country_cont.apply(lambda x: str(x.Country_Abbr) in str(x.VisaFree_Travel_VF_List), axis=1) == True, 'Y', 'N') )\nprint(country_cont.apply(lambda x: str(x.Country_Abbr) in str(x.VisaFree_Travel_VF_List), axis=1))\n#print(str(country_cont['Country_Abbr']))\n#print(country_cont['VisaFree_Travel_VF_List'].str.contains(str(country_cont['Country_Abbr'])) )\n#print((str(country_cont['Country_Abbr'])) )\n#print(str(country_cont['VisaFree_Travel_VF_List']) )",
      "metadata": {
        "trusted": true
      },
      "execution_count": null,
      "outputs": []
    },
    {
      "cell_type": "code",
      "source": "# Find if the CountryName column in dataframe contains any element with the substring\nprint(cntry_cd_df['CountryName'].str.contains('osov').any())",
      "metadata": {
        "trusted": true
      },
      "execution_count": null,
      "outputs": []
    },
    {
      "cell_type": "code",
      "source": "#print(continent_df['Entity'].str.contains('osov').any())\n#print(continent_df.Entity.unique())\n#print(country_cont.query('Country_3_Digit_Abbr != Code').Country.unique())\n#print(continent_df.query('Entity.str.contains(\"osov\")'))\n\n#select specific columns from dataframe based on a condition\n#print(country_cont.loc[country_cont[\"Visa_Free\"] == \"Y\", [\"Country_Abbr\", \"VisaFreeCntryCD\"]])\nprint(country_cont.loc[country_cont[\"Visa_Free\"] == \"Y\", [\"Country_Abbr\", \"VisaFreeCntryCD\"]].groupby(['VisaFreeCntryCD'])['Country_Abbr'].apply(','.join).reset_index())",
      "metadata": {
        "trusted": true
      },
      "execution_count": null,
      "outputs": []
    },
    {
      "cell_type": "code",
      "source": "",
      "metadata": {},
      "execution_count": null,
      "outputs": []
    }
  ]
}